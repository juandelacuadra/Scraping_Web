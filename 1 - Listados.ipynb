{
 "cells": [
  {
   "cell_type": "code",
   "execution_count": null,
   "metadata": {},
   "outputs": [],
   "source": [
    "# ===== IMPORTACION (EJECUTAR SIEMPRE) ===== #\n",
    "from bs4 import BeautifulSoup as bs\n",
    "import requests\n",
    "import pandas as pd\n",
    "from time import sleep\n",
    "\n",
    "# ME TRAIGO MI CLASE\n",
    "from AxesorMining import AxesorMining"
   ]
  },
  {
   "attachments": {},
   "cell_type": "markdown",
   "metadata": {},
   "source": [
    "#### OBTENCION DE TODAS LAS EMPRESAS DE AXESOR.ES\n",
    "Ideas generales:\n",
    "- Accedo a https://www.axesor.es/directorio-informacion-empresas<br>\n",
    "\n",
    "1. PRIMER BUCLE: Por provincia\n",
    "    - Accedo una a una a todas las provincias. **Todas en la misma URL.**\n",
    "    <br>Formato: https://www.axesor.es/directorio-informacion-empresas/empresas-de-Alava\n",
    "\n",
    "    <br>\n",
    "\n",
    "2. SEGUNDO BUCLE: Por municipio\n",
    "    - Accedo una a una a todos los municipios que hay en la página de provincia. **Aquí ya hay paginación.**\n",
    "    <br>Formato: https://www.axesor.es/directorio-informacion-empresas/empresas-de-Alava/informacion-empresas-de-Alegria-Dulantzi/1\n",
    "        - Recorrer todos los valores de la página.\n",
    "        - Saltar a la siguiente página.\n",
    "        - Si es la última página, paso a siguiente municipio.\n",
    "        - Si es el último municipio, paso a la siguiente provincia.\n",
    "\n",
    "    <br>\n",
    "\n",
    "- Creo un objeto donde voy a ir almacenando.\n",
    "- Inserto los valores\n",
    "- Genero un CSV\n",
    "\n",
    "\n"
   ]
  },
  {
   "attachments": {},
   "cell_type": "markdown",
   "metadata": {},
   "source": [
    "-------------"
   ]
  },
  {
   "attachments": {},
   "cell_type": "markdown",
   "metadata": {},
   "source": [
    "##### OBTENGO LA LISTA DE PROVINCIAS"
   ]
  },
  {
   "cell_type": "code",
   "execution_count": null,
   "metadata": {},
   "outputs": [],
   "source": [
    "try:\n",
    "\n",
    "    # PUNTO DE PARTIDA:\n",
    "    url_base = 'https://www.axesor.es/directorio-informacion-empresas'\n",
    "\n",
    "    # LA OBTENGO\n",
    "    soup = AxesorMining().request_soup(url_base)    \n",
    "\n",
    "    # APUNTO A LOS LINKS DE LAS PROVINCIAS\n",
    "    provincias_table = soup.find(id=\"bloque_listadoProvincias\").find('table', class_='provincias')\n",
    "    a_provincias = provincias_table.find_all('a')\n",
    "\n",
    "    # DICCIONARIO CON LAS URL DE PROVINCIAS\n",
    "    dict_url_provincias = {link.get_text(strip=True): 'http:' + link.get('href') for link in a_provincias}\n",
    "\n",
    "    # REORDENO ALFABETICAMENTE\n",
    "    dict_url_provincias = dict(sorted(dict_url_provincias.items()))\n",
    "\n",
    "except Exception as e:\n",
    "    print(\"!!! ------> Error en la ejecución: \" + str(e))\n"
   ]
  },
  {
   "attachments": {},
   "cell_type": "markdown",
   "metadata": {},
   "source": [
    "OBTENGO LOS MUNICIPIOS"
   ]
  },
  {
   "cell_type": "code",
   "execution_count": null,
   "metadata": {},
   "outputs": [],
   "source": [
    "try:\n",
    "\n",
    "    # PRIMER NIVEL DE BUCLE: PROVINCIAS\n",
    "    for provincia, url_provincia in dict_url_provincias.items():\n",
    "\n",
    "        # SACO EL NOMBRE DE LA PROVINCIA\n",
    "        print('Obteniendo municipios de ' + provincia)\n",
    "\n",
    "        # OBTENGO EL CONTENIDO\n",
    "        soup = AxesorMining().request_soup(url_provincia)   \n",
    "\n",
    "        # APUNTO A LOS LINKS DE LOS MUNICIPIOS\n",
    "        a_municipios = soup.find(id=\"listaMunicipiosProvincia\").find('table', class_='provincias').find_all('a')\n",
    "\n",
    "        # LISTA DE URLS DE MUNICIPIOS DE LA PROVINCIA\n",
    "        listado_url_municipios = [[provincia, link.get_text(strip=True), 'http:' + link.get('href')] for link in a_municipios]\n",
    "\n",
    "        # PASO LA BBDD A DATAFRAME\n",
    "        df = pd.DataFrame(listado_url_municipios, columns=['Provincia', 'Municipio', 'URL'])\n",
    "        df.sort_values(by=['Municipio'], ascending=True, inplace=True)\n",
    "        nombre_csv = f\"data/0_Provincias/{provincia}.csv\"\n",
    "\n",
    "        # GENERO EL CSV\n",
    "        df.to_csv(nombre_csv, sep=';', index=False)\n",
    "        print('Generado con éxito -> ' + nombre_csv)\n",
    "        print('------------------')\n",
    "\n",
    "    print('---------- PROCESO FINALIZADO CON ÉXITO ----------')\n",
    "\n",
    "except Exception as e:\n",
    "    print(\"!!! ------> Error en la ejecución: \" + str(e))\n"
   ]
  }
 ],
 "metadata": {
  "kernelspec": {
   "display_name": "Python 3",
   "language": "python",
   "name": "python3"
  },
  "language_info": {
   "codemirror_mode": {
    "name": "ipython",
    "version": 3
   },
   "file_extension": ".py",
   "mimetype": "text/x-python",
   "name": "python",
   "nbconvert_exporter": "python",
   "pygments_lexer": "ipython3",
   "version": "3.11.1"
  },
  "orig_nbformat": 4,
  "vscode": {
   "interpreter": {
    "hash": "93e9b880c9b40a6dd17245251b26c21638ffd33fdba627fa2212efe76c291e98"
   }
  }
 },
 "nbformat": 4,
 "nbformat_minor": 2
}
